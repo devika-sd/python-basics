{
 "cells": [
  {
   "cell_type": "code",
   "execution_count": 1,
   "metadata": {},
   "outputs": [],
   "source": [
    "import cv2,time"
   ]
  },
  {
   "cell_type": "code",
   "execution_count": 2,
   "metadata": {},
   "outputs": [],
   "source": [
    "video=cv2.VideoCapture(0)"
   ]
  },
  {
   "cell_type": "code",
   "execution_count": 3,
   "metadata": {},
   "outputs": [],
   "source": [
    "face=cv2.CascadeClassifier(\"/home/devika/anaconda3/pkgs/libopencv-3.4.1-h1a3b859_1/share/OpenCV/haarcascades/haarcascade_frontalface_alt.xml\")"
   ]
  },
  {
   "cell_type": "code",
   "execution_count": 4,
   "metadata": {},
   "outputs": [
    {
     "name": "stdout",
     "output_type": "stream",
     "text": [
      "enter your id1\n",
      "True\n",
      "True\n",
      "True\n",
      "True\n",
      "True\n",
      "True\n",
      "True\n",
      "True\n",
      "True\n",
      "True\n",
      "True\n",
      "True\n",
      "True\n",
      "True\n",
      "True\n",
      "True\n",
      "True\n",
      "True\n",
      "True\n",
      "True\n",
      "True\n",
      "True\n",
      "True\n",
      "True\n",
      "True\n",
      "True\n",
      "True\n",
      "True\n",
      "True\n",
      "True\n"
     ]
    }
   ],
   "source": [
    "a=0\n",
    "id=input('enter your id')\n",
    "while(True):\n",
    "    check,frame=video.read()\n",
    "    print(check)\n",
    "    gray_video=cv2.cvtColor(frame,cv2.COLOR_BGR2GRAY)\n",
    "    facebox=face.detectMultiScale(gray_video,scaleFactor=1.05,minNeighbors=5)\n",
    "    a+=1\n",
    "    for x,y,w,h in facebox:\n",
    "        frame=cv2.rectangle(frame,(x,y),(x+w,y+h),(0,255,255),3)\n",
    "        cv2.imwrite(\"dataset/User.\"+str(id)+\".\"+str(a)+\".jpg\",gray_video)\n",
    "    cv2.imshow(\"video\",frame)\n",
    "    #time.sleep(0)\n",
    "    key=cv2.waitKey(1)\n",
    "    if a==30:\n",
    "        break\n",
    "        \n",
    "video.release()\n",
    "cv2.destroyAllWindows()\n",
    "\n",
    "\n"
   ]
  },
  {
   "cell_type": "code",
   "execution_count": null,
   "metadata": {},
   "outputs": [],
   "source": []
  }
 ],
 "metadata": {
  "kernelspec": {
   "display_name": "Python 3",
   "language": "python",
   "name": "python3"
  },
  "language_info": {
   "codemirror_mode": {
    "name": "ipython",
    "version": 3
   },
   "file_extension": ".py",
   "mimetype": "text/x-python",
   "name": "python",
   "nbconvert_exporter": "python",
   "pygments_lexer": "ipython3",
   "version": "3.6.5"
  }
 },
 "nbformat": 4,
 "nbformat_minor": 2
}
